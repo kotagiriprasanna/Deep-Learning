{
 "cells": [
  {
   "cell_type": "code",
   "execution_count": 21,
   "id": "fa4f165b",
   "metadata": {},
   "outputs": [],
   "source": [
    "import os\n",
    "import cv2\n",
    "import pandas as pd\n",
    "import numpy as np"
   ]
  },
  {
   "cell_type": "code",
   "execution_count": 2,
   "id": "1cdac724",
   "metadata": {},
   "outputs": [],
   "source": [
    "folder_=os.listdir(r'C:\\Users\\pc\\Downloads\\notes\\data_CNN\\data\\class_10_train')"
   ]
  },
  {
   "cell_type": "code",
   "execution_count": 3,
   "id": "119e25f4",
   "metadata": {},
   "outputs": [
    {
     "data": {
      "text/plain": [
       "['n01882714',\n",
       " 'n02165456',\n",
       " 'n02509815',\n",
       " 'n03662601',\n",
       " 'n04146614',\n",
       " 'n04285008',\n",
       " 'n07720875',\n",
       " 'n07747607',\n",
       " 'n07873807',\n",
       " 'n07920052']"
      ]
     },
     "execution_count": 3,
     "metadata": {},
     "output_type": "execute_result"
    }
   ],
   "source": [
    "folder_"
   ]
  },
  {
   "cell_type": "code",
   "execution_count": 4,
   "id": "16250d4e",
   "metadata": {},
   "outputs": [],
   "source": [
    "d1=pd.read_json(r'C:\\Users\\pc\\Downloads\\notes\\data_CNN\\data\\class_dict_10.json')"
   ]
  },
  {
   "cell_type": "code",
   "execution_count": 5,
   "id": "c62b970d",
   "metadata": {},
   "outputs": [
    {
     "data": {
      "text/html": [
       "<div>\n",
       "<style scoped>\n",
       "    .dataframe tbody tr th:only-of-type {\n",
       "        vertical-align: middle;\n",
       "    }\n",
       "\n",
       "    .dataframe tbody tr th {\n",
       "        vertical-align: top;\n",
       "    }\n",
       "\n",
       "    .dataframe thead th {\n",
       "        text-align: right;\n",
       "    }\n",
       "</style>\n",
       "<table border=\"1\" class=\"dataframe\">\n",
       "  <thead>\n",
       "    <tr style=\"text-align: right;\">\n",
       "      <th></th>\n",
       "      <th>n03662601</th>\n",
       "      <th>n02165456</th>\n",
       "      <th>n07873807</th>\n",
       "      <th>n07720875</th>\n",
       "      <th>n04146614</th>\n",
       "      <th>n01882714</th>\n",
       "      <th>n07920052</th>\n",
       "      <th>n02509815</th>\n",
       "      <th>n07747607</th>\n",
       "      <th>n04285008</th>\n",
       "    </tr>\n",
       "  </thead>\n",
       "  <tbody>\n",
       "    <tr>\n",
       "      <th>class</th>\n",
       "      <td>lifeboat</td>\n",
       "      <td>ladybug, ladybeetle, lady beetle, ladybird, la...</td>\n",
       "      <td>pizza, pizza pie</td>\n",
       "      <td>bell pepper</td>\n",
       "      <td>school bus</td>\n",
       "      <td>koala, koala bear, kangaroo bear, native bear,...</td>\n",
       "      <td>espresso</td>\n",
       "      <td>lesser panda, red panda, panda, bear cat, cat ...</td>\n",
       "      <td>orange</td>\n",
       "      <td>sports car, sport car</td>\n",
       "    </tr>\n",
       "    <tr>\n",
       "      <th>index</th>\n",
       "      <td>0</td>\n",
       "      <td>1</td>\n",
       "      <td>2</td>\n",
       "      <td>3</td>\n",
       "      <td>4</td>\n",
       "      <td>5</td>\n",
       "      <td>6</td>\n",
       "      <td>7</td>\n",
       "      <td>8</td>\n",
       "      <td>9</td>\n",
       "    </tr>\n",
       "  </tbody>\n",
       "</table>\n",
       "</div>"
      ],
      "text/plain": [
       "      n03662601                                          n02165456  \\\n",
       "class  lifeboat  ladybug, ladybeetle, lady beetle, ladybird, la...   \n",
       "index         0                                                  1   \n",
       "\n",
       "              n07873807    n07720875   n04146614  \\\n",
       "class  pizza, pizza pie  bell pepper  school bus   \n",
       "index                 2            3           4   \n",
       "\n",
       "                                               n01882714 n07920052  \\\n",
       "class  koala, koala bear, kangaroo bear, native bear,...  espresso   \n",
       "index                                                  5         6   \n",
       "\n",
       "                                               n02509815 n07747607  \\\n",
       "class  lesser panda, red panda, panda, bear cat, cat ...    orange   \n",
       "index                                                  7         8   \n",
       "\n",
       "                   n04285008  \n",
       "class  sports car, sport car  \n",
       "index                      9  "
      ]
     },
     "execution_count": 5,
     "metadata": {},
     "output_type": "execute_result"
    }
   ],
   "source": [
    "d1"
   ]
  },
  {
   "cell_type": "code",
   "execution_count": 53,
   "id": "98395081",
   "metadata": {},
   "outputs": [
    {
     "data": {
      "text/plain": [
       "'lifeboat'"
      ]
     },
     "execution_count": 53,
     "metadata": {},
     "output_type": "execute_result"
    }
   ],
   "source": [
    "d1.loc['class','n03662601']"
   ]
  },
  {
   "cell_type": "code",
   "execution_count": null,
   "id": "dbed15aa",
   "metadata": {},
   "outputs": [],
   "source": [
    "image_set=[]\n",
    "class_label=[]\n",
    "for fn in folder_:\n",
    "    for fn_ in os.listdir(r'C:\\Users\\pc\\Downloads\\notes\\data_CNN\\data\\class_10_train\\{}\\images'.format(fn)):\n",
    "        image_set.append(cv2.resize(cv2.imread(r'C:\\Users\\Reddy\\Downloads\\data\\data\\class_10_train\\{}\\images\\{}'.format(fn,fn_)),(32,32)))\n",
    "        class_label.append(d1.loc['class',fn])"
   ]
  },
  {
   "cell_type": "code",
   "execution_count": 56,
   "id": "79d513af",
   "metadata": {},
   "outputs": [
    {
     "data": {
      "text/plain": [
       "0"
      ]
     },
     "execution_count": 56,
     "metadata": {},
     "output_type": "execute_result"
    }
   ],
   "source": [
    "len(image_set)"
   ]
  },
  {
   "cell_type": "code",
   "execution_count": 15,
   "id": "96ed043a",
   "metadata": {},
   "outputs": [
    {
     "data": {
      "text/plain": [
       "5000"
      ]
     },
     "execution_count": 15,
     "metadata": {},
     "output_type": "execute_result"
    }
   ],
   "source": [
    "len(class_label)"
   ]
  },
  {
   "cell_type": "code",
   "execution_count": 16,
   "id": "f485e102",
   "metadata": {},
   "outputs": [],
   "source": [
    "final_dataset=np.array(image_set)"
   ]
  },
  {
   "cell_type": "code",
   "execution_count": 17,
   "id": "a26f7875",
   "metadata": {},
   "outputs": [],
   "source": [
    "from sklearn.preprocessing import LabelEncoder\n",
    "le=LabelEncoder()\n",
    "final_cls_label=le.fit_transform(class_label)"
   ]
  },
  {
   "cell_type": "code",
   "execution_count": null,
   "id": "d71d1fb1",
   "metadata": {},
   "outputs": [],
   "source": [
    "from sklearn.model_selection import train_test_split\n",
    "X_train,X_test,y_train,y_test=train_test_split(final_dataset,final_cls_label,stratify=final_cls_label,test_size=0.2)"
   ]
  },
  {
   "cell_type": "code",
   "execution_count": 20,
   "id": "e5b480a6",
   "metadata": {},
   "outputs": [
    {
     "name": "stdout",
     "output_type": "stream",
     "text": [
      "(0,)\n",
      "(5000,)\n"
     ]
    }
   ],
   "source": [
    "print(final_dataset.shape)\n",
    "print(final_cls_label.shape)"
   ]
  },
  {
   "cell_type": "code",
   "execution_count": 21,
   "id": "8165c480",
   "metadata": {},
   "outputs": [
    {
     "name": "stdout",
     "output_type": "stream",
     "text": [
      "<class 'numpy.ndarray'> 0\n",
      "<class 'numpy.ndarray'> 5000\n"
     ]
    }
   ],
   "source": [
    "print(type(final_dataset), len(final_dataset))\n",
    "print(type(final_cls_label), len(final_cls_label))"
   ]
  },
  {
   "cell_type": "code",
   "execution_count": null,
   "id": "11530aa6",
   "metadata": {},
   "outputs": [],
   "source": [
    "X_train.shape"
   ]
  },
  {
   "cell_type": "code",
   "execution_count": null,
   "id": "c453531a",
   "metadata": {},
   "outputs": [],
   "source": [
    "from keras.models import Sequential\n",
    "from keras.layers import InputLayer, Dense,Flatten\n",
    "from keras.layers import Conv2D,MaxPooling2D,AveragePooling2D,MaxPooling2D"
   ]
  },
  {
   "cell_type": "code",
   "execution_count": 53,
   "id": "4e5a512b",
   "metadata": {},
   "outputs": [
    {
     "name": "stderr",
     "output_type": "stream",
     "text": [
      "C:\\Users\\Reddy\\anaconda3\\Lib\\site-packages\\keras\\src\\layers\\core\\input_layer.py:26: UserWarning: Argument `input_shape` is deprecated. Use `shape` instead.\n",
      "  warnings.warn(\n"
     ]
    }
   ],
   "source": [
    "model=Sequential()\n",
    "model.add(InputLayer(input_shape=(64,64,3)))\n",
    "\n",
    "model.add(Conv2D(32,kernel_size=(3,3),strides=(1,1),activation='relu',padding='valid'))\n",
    "model.add(MaxPooling2D(pool_size=(2,2),strides=(1,1),padding='valid'))\n",
    "\n",
    "model.add(Conv2D(16,kernel_size=(3,3),strides=(1,1),activation='relu',padding='valid'))\n",
    "model.add(MaxPooling2D(pool_size=(2,2),strides=(1,1),padding='valid'))\n",
    "\n",
    "model.add(Conv2D(16,kernel_size=(3,3),strides=(1,1),activation='relu',padding='valid'))\n",
    "model.add(MaxPooling2D(pool_size=(2,2),strides=(1,1),padding='valid'))\n",
    "\n",
    "\n",
    "\n",
    "model.add(Flatten())\n",
    "model.add(Dense(30,activation='tanh'))\n",
    "model.add(Dense(20,activation='tanh'))\n",
    "model.add(Dense(10,activation='softmax'))\n"
   ]
  },
  {
   "cell_type": "code",
   "execution_count": 57,
   "id": "5cf19f86",
   "metadata": {},
   "outputs": [],
   "source": [
    "model.compile(optimizer='adam',loss='sparse_categorical_crossentropy',metrics=['accuracy'])"
   ]
  },
  {
   "cell_type": "code",
   "execution_count": 61,
   "id": "224ce709",
   "metadata": {},
   "outputs": [
    {
     "name": "stdout",
     "output_type": "stream",
     "text": [
      "Epoch 1/30\n",
      "\u001b[1m100/100\u001b[0m \u001b[32m━━━━━━━━━━━━━━━━━━━━\u001b[0m\u001b[37m\u001b[0m \u001b[1m15s\u001b[0m 148ms/step - accuracy: 0.1037 - loss: 2.3077 - val_accuracy: 0.1100 - val_loss: 2.3073\n",
      "Epoch 2/30\n",
      "\u001b[1m100/100\u001b[0m \u001b[32m━━━━━━━━━━━━━━━━━━━━\u001b[0m\u001b[37m\u001b[0m \u001b[1m15s\u001b[0m 145ms/step - accuracy: 0.0946 - loss: 2.3058 - val_accuracy: 0.0962 - val_loss: 2.3111\n",
      "Epoch 3/30\n",
      "\u001b[1m100/100\u001b[0m \u001b[32m━━━━━━━━━━━━━━━━━━━━\u001b[0m\u001b[37m\u001b[0m \u001b[1m15s\u001b[0m 146ms/step - accuracy: 0.1025 - loss: 2.3076 - val_accuracy: 0.1100 - val_loss: 2.3095\n",
      "Epoch 4/30\n",
      "\u001b[1m100/100\u001b[0m \u001b[32m━━━━━━━━━━━━━━━━━━━━\u001b[0m\u001b[37m\u001b[0m \u001b[1m14s\u001b[0m 142ms/step - accuracy: 0.0897 - loss: 2.3111 - val_accuracy: 0.1025 - val_loss: 2.3066\n",
      "Epoch 5/30\n",
      "\u001b[1m100/100\u001b[0m \u001b[32m━━━━━━━━━━━━━━━━━━━━\u001b[0m\u001b[37m\u001b[0m \u001b[1m14s\u001b[0m 138ms/step - accuracy: 0.1071 - loss: 2.3063 - val_accuracy: 0.0913 - val_loss: 2.3083\n",
      "Epoch 6/30\n",
      "\u001b[1m100/100\u001b[0m \u001b[32m━━━━━━━━━━━━━━━━━━━━\u001b[0m\u001b[37m\u001b[0m \u001b[1m14s\u001b[0m 139ms/step - accuracy: 0.1086 - loss: 2.3061 - val_accuracy: 0.1100 - val_loss: 2.3024\n",
      "Epoch 7/30\n",
      "\u001b[1m100/100\u001b[0m \u001b[32m━━━━━━━━━━━━━━━━━━━━\u001b[0m\u001b[37m\u001b[0m \u001b[1m14s\u001b[0m 140ms/step - accuracy: 0.0964 - loss: 2.3068 - val_accuracy: 0.0913 - val_loss: 2.3079\n",
      "Epoch 8/30\n",
      "\u001b[1m100/100\u001b[0m \u001b[32m━━━━━━━━━━━━━━━━━━━━\u001b[0m\u001b[37m\u001b[0m \u001b[1m14s\u001b[0m 139ms/step - accuracy: 0.0901 - loss: 2.3084 - val_accuracy: 0.0913 - val_loss: 2.3052\n",
      "Epoch 9/30\n",
      "\u001b[1m100/100\u001b[0m \u001b[32m━━━━━━━━━━━━━━━━━━━━\u001b[0m\u001b[37m\u001b[0m \u001b[1m14s\u001b[0m 139ms/step - accuracy: 0.1022 - loss: 2.3066 - val_accuracy: 0.0913 - val_loss: 2.3117\n",
      "Epoch 10/30\n",
      "\u001b[1m100/100\u001b[0m \u001b[32m━━━━━━━━━━━━━━━━━━━━\u001b[0m\u001b[37m\u001b[0m \u001b[1m14s\u001b[0m 139ms/step - accuracy: 0.0978 - loss: 2.3090 - val_accuracy: 0.0975 - val_loss: 2.3073\n",
      "Epoch 11/30\n",
      "\u001b[1m100/100\u001b[0m \u001b[32m━━━━━━━━━━━━━━━━━━━━\u001b[0m\u001b[37m\u001b[0m \u001b[1m14s\u001b[0m 140ms/step - accuracy: 0.0850 - loss: 2.3085 - val_accuracy: 0.1100 - val_loss: 2.3028\n",
      "Epoch 12/30\n",
      "\u001b[1m100/100\u001b[0m \u001b[32m━━━━━━━━━━━━━━━━━━━━\u001b[0m\u001b[37m\u001b[0m \u001b[1m14s\u001b[0m 140ms/step - accuracy: 0.0927 - loss: 2.3072 - val_accuracy: 0.1037 - val_loss: 2.3047\n",
      "Epoch 13/30\n",
      "\u001b[1m100/100\u001b[0m \u001b[32m━━━━━━━━━━━━━━━━━━━━\u001b[0m\u001b[37m\u001b[0m \u001b[1m14s\u001b[0m 139ms/step - accuracy: 0.0898 - loss: 2.3090 - val_accuracy: 0.1025 - val_loss: 2.3054\n",
      "Epoch 14/30\n",
      "\u001b[1m100/100\u001b[0m \u001b[32m━━━━━━━━━━━━━━━━━━━━\u001b[0m\u001b[37m\u001b[0m \u001b[1m14s\u001b[0m 139ms/step - accuracy: 0.1070 - loss: 2.3060 - val_accuracy: 0.0962 - val_loss: 2.3090\n",
      "Epoch 15/30\n",
      "\u001b[1m100/100\u001b[0m \u001b[32m━━━━━━━━━━━━━━━━━━━━\u001b[0m\u001b[37m\u001b[0m \u001b[1m14s\u001b[0m 140ms/step - accuracy: 0.1002 - loss: 2.3088 - val_accuracy: 0.0913 - val_loss: 2.3050\n",
      "Epoch 16/30\n",
      "\u001b[1m100/100\u001b[0m \u001b[32m━━━━━━━━━━━━━━━━━━━━\u001b[0m\u001b[37m\u001b[0m \u001b[1m14s\u001b[0m 140ms/step - accuracy: 0.0886 - loss: 2.3050 - val_accuracy: 0.1037 - val_loss: 2.3076\n",
      "Epoch 17/30\n",
      "\u001b[1m100/100\u001b[0m \u001b[32m━━━━━━━━━━━━━━━━━━━━\u001b[0m\u001b[37m\u001b[0m \u001b[1m14s\u001b[0m 140ms/step - accuracy: 0.1078 - loss: 2.3064 - val_accuracy: 0.0962 - val_loss: 2.3052\n",
      "Epoch 18/30\n",
      "\u001b[1m100/100\u001b[0m \u001b[32m━━━━━━━━━━━━━━━━━━━━\u001b[0m\u001b[37m\u001b[0m \u001b[1m14s\u001b[0m 139ms/step - accuracy: 0.0954 - loss: 2.3047 - val_accuracy: 0.0913 - val_loss: 2.3052\n",
      "Epoch 19/30\n",
      "\u001b[1m100/100\u001b[0m \u001b[32m━━━━━━━━━━━━━━━━━━━━\u001b[0m\u001b[37m\u001b[0m \u001b[1m14s\u001b[0m 139ms/step - accuracy: 0.1036 - loss: 2.3060 - val_accuracy: 0.0962 - val_loss: 2.3056\n",
      "Epoch 20/30\n",
      "\u001b[1m100/100\u001b[0m \u001b[32m━━━━━━━━━━━━━━━━━━━━\u001b[0m\u001b[37m\u001b[0m \u001b[1m14s\u001b[0m 140ms/step - accuracy: 0.0987 - loss: 2.3053 - val_accuracy: 0.0925 - val_loss: 2.3037\n",
      "Epoch 21/30\n",
      "\u001b[1m100/100\u001b[0m \u001b[32m━━━━━━━━━━━━━━━━━━━━\u001b[0m\u001b[37m\u001b[0m \u001b[1m15s\u001b[0m 147ms/step - accuracy: 0.1073 - loss: 2.3051 - val_accuracy: 0.0913 - val_loss: 2.3073\n",
      "Epoch 22/30\n",
      "\u001b[1m100/100\u001b[0m \u001b[32m━━━━━━━━━━━━━━━━━━━━\u001b[0m\u001b[37m\u001b[0m \u001b[1m14s\u001b[0m 140ms/step - accuracy: 0.1042 - loss: 2.3072 - val_accuracy: 0.0913 - val_loss: 2.3046\n",
      "Epoch 23/30\n",
      "\u001b[1m100/100\u001b[0m \u001b[32m━━━━━━━━━━━━━━━━━━━━\u001b[0m\u001b[37m\u001b[0m \u001b[1m14s\u001b[0m 141ms/step - accuracy: 0.0917 - loss: 2.3063 - val_accuracy: 0.0913 - val_loss: 2.3051\n",
      "Epoch 24/30\n",
      "\u001b[1m100/100\u001b[0m \u001b[32m━━━━━━━━━━━━━━━━━━━━\u001b[0m\u001b[37m\u001b[0m \u001b[1m14s\u001b[0m 142ms/step - accuracy: 0.0992 - loss: 2.3070 - val_accuracy: 0.0975 - val_loss: 2.3105\n",
      "Epoch 25/30\n",
      "\u001b[1m100/100\u001b[0m \u001b[32m━━━━━━━━━━━━━━━━━━━━\u001b[0m\u001b[37m\u001b[0m \u001b[1m15s\u001b[0m 148ms/step - accuracy: 0.0938 - loss: 2.3057 - val_accuracy: 0.0975 - val_loss: 2.3086\n",
      "Epoch 26/30\n",
      "\u001b[1m100/100\u001b[0m \u001b[32m━━━━━━━━━━━━━━━━━━━━\u001b[0m\u001b[37m\u001b[0m \u001b[1m16s\u001b[0m 162ms/step - accuracy: 0.1067 - loss: 2.3039 - val_accuracy: 0.0925 - val_loss: 2.3051\n",
      "Epoch 27/30\n",
      "\u001b[1m100/100\u001b[0m \u001b[32m━━━━━━━━━━━━━━━━━━━━\u001b[0m\u001b[37m\u001b[0m \u001b[1m15s\u001b[0m 148ms/step - accuracy: 0.0958 - loss: 2.3060 - val_accuracy: 0.0925 - val_loss: 2.3056\n",
      "Epoch 28/30\n",
      "\u001b[1m100/100\u001b[0m \u001b[32m━━━━━━━━━━━━━━━━━━━━\u001b[0m\u001b[37m\u001b[0m \u001b[1m16s\u001b[0m 161ms/step - accuracy: 0.1033 - loss: 2.3053 - val_accuracy: 0.0913 - val_loss: 2.3061\n",
      "Epoch 29/30\n",
      "\u001b[1m100/100\u001b[0m \u001b[32m━━━━━━━━━━━━━━━━━━━━\u001b[0m\u001b[37m\u001b[0m \u001b[1m14s\u001b[0m 135ms/step - accuracy: 0.0927 - loss: 2.3081 - val_accuracy: 0.0913 - val_loss: 2.3040\n",
      "Epoch 30/30\n",
      "\u001b[1m100/100\u001b[0m \u001b[32m━━━━━━━━━━━━━━━━━━━━\u001b[0m\u001b[37m\u001b[0m \u001b[1m3939s\u001b[0m 40s/step - accuracy: 0.0914 - loss: 2.3067 - val_accuracy: 0.0913 - val_loss: 2.3035\n"
     ]
    },
    {
     "data": {
      "text/plain": [
       "<keras.src.callbacks.history.History at 0x218abc44290>"
      ]
     },
     "execution_count": 61,
     "metadata": {},
     "output_type": "execute_result"
    }
   ],
   "source": [
    "model.fit(X_train,y_train,batch_size=32,epochs=30,validation_split=0.2)"
   ]
  },
  {
   "cell_type": "code",
   "execution_count": 23,
   "id": "cbcfd5d7",
   "metadata": {},
   "outputs": [],
   "source": [
    "le = LabelEncoder()"
   ]
  },
  {
   "cell_type": "code",
   "execution_count": null,
   "id": "ebaf3ae2",
   "metadata": {},
   "outputs": [],
   "source": [
    "dg = ImageDataGenerator()"
   ]
  },
  {
   "cell_type": "code",
   "execution_count": 22,
   "id": "d73d047a",
   "metadata": {},
   "outputs": [],
   "source": [
    "from tensorflow.keras.preprocessing.image import ImageDataGenerator"
   ]
  },
  {
   "cell_type": "code",
   "execution_count": 36,
   "id": "fe88f45e",
   "metadata": {},
   "outputs": [],
   "source": [
    "img=cv2.imread(r\"C:\\Users\\pc\\Downloads\\notes\\data_CNN\\data\\class_10_val\\val_images\\val_47.jpeg\")"
   ]
  },
  {
   "cell_type": "code",
   "execution_count": 37,
   "id": "1097f78e",
   "metadata": {},
   "outputs": [],
   "source": [
    "dg = ImageDataGenerator(rotation_range=90)"
   ]
  },
  {
   "cell_type": "code",
   "execution_count": 38,
   "id": "5e16706d",
   "metadata": {},
   "outputs": [
    {
     "data": {
      "text/plain": [
       "(64, 64, 3)"
      ]
     },
     "execution_count": 38,
     "metadata": {},
     "output_type": "execute_result"
    }
   ],
   "source": [
    "img.shape"
   ]
  },
  {
   "cell_type": "code",
   "execution_count": 39,
   "id": "9a0c0d7d",
   "metadata": {},
   "outputs": [],
   "source": [
    "img = img.reshape((1,64,64,3))"
   ]
  },
  {
   "cell_type": "code",
   "execution_count": 40,
   "id": "4b877b59",
   "metadata": {},
   "outputs": [],
   "source": [
    "i = 0\n",
    "for y in dg.flow(img, batch_size=1,save_to_dir=r\"C:\\Users\\pc\\Downloads\\images\",save_format=\"jpg\"):\n",
    "    if i==10:\n",
    "        break\n",
    "    i+=1"
   ]
  },
  {
   "cell_type": "code",
   "execution_count": 41,
   "id": "5b6a523c",
   "metadata": {},
   "outputs": [],
   "source": [
    "dg = ImageDataGenerator(width_shift_range=0.6,fill_mode=\"wrap\")"
   ]
  },
  {
   "cell_type": "code",
   "execution_count": 42,
   "id": "6748a107",
   "metadata": {},
   "outputs": [],
   "source": [
    "dg = ImageDataGenerator(brightness_range=None)"
   ]
  },
  {
   "cell_type": "code",
   "execution_count": 46,
   "id": "47cb5c3d",
   "metadata": {},
   "outputs": [],
   "source": []
  },
  {
   "cell_type": "code",
   "execution_count": null,
   "id": "89db0eba",
   "metadata": {},
   "outputs": [],
   "source": []
  },
  {
   "cell_type": "code",
   "execution_count": null,
   "id": "f72f8642",
   "metadata": {},
   "outputs": [],
   "source": []
  },
  {
   "cell_type": "code",
   "execution_count": 6,
   "id": "f40211b3",
   "metadata": {},
   "outputs": [],
   "source": [
    "import keras"
   ]
  },
  {
   "cell_type": "code",
   "execution_count": 7,
   "id": "43fec4bc",
   "metadata": {},
   "outputs": [],
   "source": [
    "from keras.datasets import mnist"
   ]
  },
  {
   "cell_type": "code",
   "execution_count": 8,
   "id": "90fdd359",
   "metadata": {},
   "outputs": [
    {
     "name": "stdout",
     "output_type": "stream",
     "text": [
      "Downloading data from https://storage.googleapis.com/tensorflow/tf-keras-datasets/mnist.npz\n",
      "\u001b[1m11490434/11490434\u001b[0m \u001b[32m━━━━━━━━━━━━━━━━━━━━\u001b[0m\u001b[37m\u001b[0m \u001b[1m6s\u001b[0m 1us/step\n"
     ]
    }
   ],
   "source": [
    "(x_train,y_train),(x_test,y_test)=mnist.load_data()"
   ]
  },
  {
   "cell_type": "code",
   "execution_count": 9,
   "id": "36f2d92f",
   "metadata": {},
   "outputs": [
    {
     "data": {
      "text/plain": [
       "(60000, 28, 28)"
      ]
     },
     "execution_count": 9,
     "metadata": {},
     "output_type": "execute_result"
    }
   ],
   "source": [
    "x_train.shape"
   ]
  },
  {
   "cell_type": "code",
   "execution_count": 11,
   "id": "d3740ea3",
   "metadata": {},
   "outputs": [
    {
     "name": "stdout",
     "output_type": "stream",
     "text": [
      "(60000, 28, 28) (60000,)\n"
     ]
    }
   ],
   "source": [
    "print(x_train.shape,y_train.shape)"
   ]
  },
  {
   "cell_type": "code",
   "execution_count": 12,
   "id": "7891189f",
   "metadata": {},
   "outputs": [
    {
     "name": "stdout",
     "output_type": "stream",
     "text": [
      "(10000, 28, 28) (10000,)\n"
     ]
    }
   ],
   "source": [
    "print(x_test.shape,y_test.shape)"
   ]
  },
  {
   "cell_type": "code",
   "execution_count": 13,
   "id": "0f22d165",
   "metadata": {},
   "outputs": [
    {
     "data": {
      "text/plain": [
       "(60000, 28, 28)"
      ]
     },
     "execution_count": 13,
     "metadata": {},
     "output_type": "execute_result"
    }
   ],
   "source": [
    "x_train.shape"
   ]
  },
  {
   "cell_type": "code",
   "execution_count": 14,
   "id": "55a132a4",
   "metadata": {},
   "outputs": [
    {
     "data": {
      "text/plain": [
       "(28, 28)"
      ]
     },
     "execution_count": 14,
     "metadata": {},
     "output_type": "execute_result"
    }
   ],
   "source": [
    "x_train[0].shape"
   ]
  },
  {
   "cell_type": "code",
   "execution_count": 15,
   "id": "384ebc52",
   "metadata": {},
   "outputs": [],
   "source": [
    "import matplotlib.pyplot as plt"
   ]
  },
  {
   "cell_type": "code",
   "execution_count": 17,
   "id": "65f366e1",
   "metadata": {},
   "outputs": [
    {
     "data": {
      "text/plain": [
       "<function matplotlib.pyplot.show(close=None, block=None)>"
      ]
     },
     "execution_count": 17,
     "metadata": {},
     "output_type": "execute_result"
    },
    {
     "data": {
      "image/png": "[encoded data removed]",
      "text/plain": [
       "<Figure size 640x480 with 1 Axes>"
      ]
     },
     "metadata": {},
     "output_type": "display_data"
    }
   ],
   "source": [
    "plt.imshow(x_train[0],cmap='gray')\n",
    "plt.show"
   ]
  },
  {
   "cell_type": "code",
   "execution_count": 18,
   "id": "b0755428",
   "metadata": {},
   "outputs": [
    {
     "data": {
      "text/plain": [
       "<function matplotlib.pyplot.show(close=None, block=None)>"
      ]
     },
     "execution_count": 18,
     "metadata": {},
     "output_type": "execute_result"
    },
    {
     "data": {
      "image/png": "[encoded data removed]",
      "text/plain": [
       "<Figure size 640x480 with 1 Axes>"
      ]
     },
     "metadata": {},
     "output_type": "display_data"
    }
   ],
   "source": [
    "plt.imshow(x_train[0])\n",
    "plt.show"
   ]
  },
  {
   "cell_type": "code",
   "execution_count": 20,
   "id": "695e96e5",
   "metadata": {},
   "outputs": [
    {
     "data": {
      "text/plain": [
       "<function matplotlib.pyplot.show(close=None, block=None)>"
      ]
     },
     "execution_count": 20,
     "metadata": {},
     "output_type": "execute_result"
    },
    {
     "data": {
      "image/png": "[encoded data removed]",
      "text/plain": [
       "<Figure size 640x480 with 1 Axes>"
      ]
     },
     "metadata": {},
     "output_type": "display_data"
    }
   ],
   "source": [
    "plt.imshow(x_train[99],cmap='gray')\n",
    "plt.show"
   ]
  },
  {
   "cell_type": "code",
   "execution_count": null,
   "id": "3edae338",
   "metadata": {},
   "outputs": [],
   "source": [
    "train_gen = ImageDataGenerator(rescale=1./255,rotation_range=45,width_shift_range=0.8,height_shift_range=0.5,\n",
    "                              brightness_Range=(0,1))"
   ]
  },
  {
   "cell_type": "code",
   "execution_count": 25,
   "id": "cc71e7a7",
   "metadata": {},
   "outputs": [],
   "source": [
    "test_gen = ImageDataGenerator()"
   ]
  },
  {
   "cell_type": "code",
   "execution_count": 27,
   "id": "834ae1ec",
   "metadata": {},
   "outputs": [],
   "source": [
    "cv_gen = ImageDataGenerator()"
   ]
  },
  {
   "cell_type": "code",
   "execution_count": null,
   "id": "95f89a0a",
   "metadata": {},
   "outputs": [],
   "source": [
    "for fo in [\"Train\",\"Test\",\"Validation\"]:\n",
    "    for label in np.unique(y_train):\n",
    "        os.makedirs(r\")"
   ]
  },
  {
   "cell_type": "code",
   "execution_count": null,
   "id": "73d5afd0",
   "metadata": {},
   "outputs": [],
   "source": [
    "cv2.imwrite"
   ]
  },
  {
   "cell_type": "code",
   "execution_count": null,
   "id": "be27369e",
   "metadata": {},
   "outputs": [],
   "source": []
  },
  {
   "cell_type": "code",
   "execution_count": null,
   "id": "95827bb8",
   "metadata": {},
   "outputs": [],
   "source": []
  },
  {
   "cell_type": "code",
   "execution_count": null,
   "id": "9e2fd028",
   "metadata": {},
   "outputs": [],
   "source": []
  },
  {
   "cell_type": "code",
   "execution_count": null,
   "id": "c4e19b98",
   "metadata": {},
   "outputs": [],
   "source": []
  },
  {
   "cell_type": "code",
   "execution_count": null,
   "id": "180170f3",
   "metadata": {},
   "outputs": [],
   "source": []
  },
  {
   "cell_type": "code",
   "execution_count": null,
   "id": "973e3a23",
   "metadata": {},
   "outputs": [],
   "source": []
  },
  {
   "cell_type": "code",
   "execution_count": null,
   "id": "ad9bf1e3",
   "metadata": {},
   "outputs": [],
   "source": []
  },
  {
   "cell_type": "code",
   "execution_count": null,
   "id": "a5218d0c",
   "metadata": {},
   "outputs": [],
   "source": []
  },
  {
   "cell_type": "code",
   "execution_count": null,
   "id": "98f4192f",
   "metadata": {},
   "outputs": [],
   "source": []
  }
 ],
 "metadata": {
  "kernelspec": {
   "display_name": "Python 3 (ipykernel)",
   "language": "python",
   "name": "python3"
  },
  "language_info": {
   "codemirror_mode": {
    "name": "ipython",
    "version": 3
   },
   "file_extension": ".py",
   "mimetype": "text/x-python",
   "name": "python",
   "nbconvert_exporter": "python",
   "pygments_lexer": "ipython3",
   "version": "3.11.5"
  }
 },
 "nbformat": 4,
 "nbformat_minor": 5
}
